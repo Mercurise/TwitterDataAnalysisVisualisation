{
 "cells": [
  {
   "cell_type": "code",
   "execution_count": null,
   "metadata": {},
   "outputs": [],
   "source": [
    "import pip, sys, time, csv, os, json, unicodecsv as csv\n",
    "import tweepy\n",
    "from tweepy import OAuthHandler, API, Cursor\n",
    "from tweepy.error import RateLimitError\n",
    "\n",
    "# fill your own information here\n",
    "consumer_key = \"\"\n",
    "consumer_secret = \"\"\n",
    "access_token = \"\"\n",
    "access_secret = \"\"\n",
    "\n",
    "# target twitter account's user name:\n",
    "main_user = ''\n",
    "\n",
    "# gain access to twitter API\n",
    "auth = OAuthHandler(consumer_key, consumer_secret)\n",
    "auth.set_access_token(access_token, access_secret)\n",
    "api = API(auth) \n",
    "# get target user\n",
    "user = api.get_user(main_user)   \n",
    "# get the followers\n",
    "followers_ids = user.followers_ids()  \n",
    "\n",
    " \n",
    "def get_user_by_id(id):\n",
    "    try:\n",
    "        return api.get_user(id)\n",
    "    except RateLimitError:\n",
    "        print(\"-- RateLimitError --\")\n",
    "        time.sleep(60)\n",
    "        # Retrying\n",
    "        return get_user_by_id(id)\n",
    "    except:\n",
    "        print(\"-- OtherError --\")\n",
    "        time.sleep(20)\n",
    "        #Retrying\n",
    "        return get_user_by_id(id)\n",
    "\n",
    "for id in followers_ids:\n",
    "    follower = get_user_by_id(id)\n",
    " \n",
    "    # add each follower to a new row\n",
    "    csv_columns = [follower.id, follower.name, follower.followers_count, follower.profile_image_url]\n",
    "    csv_rows.append(csv_columns)\n",
    "\n",
    "# write the csv file\n",
    "# specify your file name here\n",
    "with open('xxxxx.csv', 'wb') as f:\n",
    "    writer = csv.writer(f, encoding='utf-8')\n",
    "    writer.writerows(csv_rows)\n"
   ]
  }
 ],
 "metadata": {
  "kernelspec": {
   "display_name": "Python 2",
   "language": "python",
   "name": "python2"
  },
  "language_info": {
   "codemirror_mode": {
    "name": "ipython",
    "version": 2
   },
   "file_extension": ".py",
   "mimetype": "text/x-python",
   "name": "python",
   "nbconvert_exporter": "python",
   "pygments_lexer": "ipython2",
   "version": "2.7.15"
  }
 },
 "nbformat": 4,
 "nbformat_minor": 2
}
