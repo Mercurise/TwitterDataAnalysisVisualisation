{
 "cells": [
  {
   "cell_type": "code",
   "execution_count": 1,
   "metadata": {},
   "outputs": [],
   "source": [
    "# using csv and json to re-structure csv file into COCO style data \"{[{}]}\"\n",
    "import csv\n",
    "import json\n",
    "\n",
    "f = open( 'followers_xxx.csv', 'r' ) #add the csv file name\n",
    "reader = csv.DictReader( f) \n",
    "\n",
    "formatted_data={}\n",
    "list_nodes=[]\n",
    "list_links=[]\n",
    "\n",
    "# grouping here is random and simple. You can customise it freely in your case: \n",
    "# such as multiple groups defined by other twitter related features.\n",
    "\n",
    "list_nodes.append({\"id\":\"twitter account name\",\"group\":1})\n",
    "\n",
    "for row in reader:\n",
    "    node_ele={}\n",
    "    node_ele[\"id\"]=row['id']\n",
    "    if int(row['value']) >200:\n",
    "        node_ele['group']=3\n",
    "    else:\n",
    "        node_ele['group']=2\n",
    "    link_ele={}\n",
    "\n",
    "# normalise my sample data to avoid some extreme large values,\n",
    "# which is 478.22 in my case\n",
    "\n",
    "    raw_value=int(row['value'])\n",
    "    raw_value=raw_value/478.22\n",
    "    link_ele[\"value\"]=raw_value\n",
    "    link_ele['source']=row['id']\n",
    "    link_ele['target']='nPlanHQ'\n",
    "    list_nodes.append(node_ele)\n",
    "    list_links.append(link_ele)\n",
    "formatted_data[\"nodes\"]=list_nodes\n",
    "formatted_data[\"links\"]=list_links\n",
    "with open('formattedData.json', 'w') as outfile:\n",
    "    outfile.write(json.dumps(formatted_data, indent=4, sort_keys=True))\n"
   ]
  }
 ],
 "metadata": {
  "kernelspec": {
   "display_name": "Python 3",
   "language": "python",
   "name": "python3"
  },
  "language_info": {
   "codemirror_mode": {
    "name": "ipython",
    "version": 3
   },
   "file_extension": ".py",
   "mimetype": "text/x-python",
   "name": "python",
   "nbconvert_exporter": "python",
   "pygments_lexer": "ipython3",
   "version": "3.7.3"
  }
 },
 "nbformat": 4,
 "nbformat_minor": 2
}
